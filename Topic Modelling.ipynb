{
 "cells": [
  {
   "cell_type": "code",
   "execution_count": 1,
   "id": "1c1768bc",
   "metadata": {},
   "outputs": [
    {
     "name": "stderr",
     "output_type": "stream",
     "text": [
      "<frozen importlib._bootstrap>:228: RuntimeWarning: scipy._lib.messagestream.MessageStream size changed, may indicate binary incompatibility. Expected 56 from C header, got 64 from PyObject\n"
     ]
    }
   ],
   "source": [
    "import re\n",
    "import string\n",
    "import nltk\n",
    "import pandas as pd\n",
    "import matplotlib.pyplot as plt\n",
    "\n",
    "##imported the necessary libraaary\\"
   ]
  },
  {
   "cell_type": "code",
   "execution_count": 2,
   "id": "edf049d5",
   "metadata": {},
   "outputs": [
    {
     "data": {
      "text/plain": [
       "'C:\\\\Users\\\\HP'"
      ]
     },
     "execution_count": 2,
     "metadata": {},
     "output_type": "execute_result"
    }
   ],
   "source": [
    "pwd"
   ]
  },
  {
   "cell_type": "code",
   "execution_count": 3,
   "id": "7ca19aca",
   "metadata": {},
   "outputs": [
    {
     "name": "stdout",
     "output_type": "stream",
     "text": [
      "<class 'pandas.core.frame.DataFrame'>\n",
      "RangeIndex: 185 entries, 0 to 184\n",
      "Data columns (total 12 columns):\n",
      " #   Column               Non-Null Count  Dtype  \n",
      "---  ------               --------------  -----  \n",
      " 0   teaching             185 non-null    int64  \n",
      " 1   teaching.1           185 non-null    object \n",
      " 2   coursecontent        184 non-null    float64\n",
      " 3   coursecontent.1      185 non-null    object \n",
      " 4   examination          184 non-null    float64\n",
      " 5   Examination          185 non-null    object \n",
      " 6   labwork              185 non-null    int64  \n",
      " 7   labwork.1            185 non-null    object \n",
      " 8   library_facilities   182 non-null    float64\n",
      " 9    library_facilities  185 non-null    object \n",
      " 10  extracurricular      185 non-null    int64  \n",
      " 11  extracurricular.1    185 non-null    object \n",
      "dtypes: float64(3), int64(3), object(6)\n",
      "memory usage: 17.5+ KB\n",
      "**************************************************\n"
     ]
    },
    {
     "data": {
      "text/html": [
       "<div>\n",
       "<style scoped>\n",
       "    .dataframe tbody tr th:only-of-type {\n",
       "        vertical-align: middle;\n",
       "    }\n",
       "\n",
       "    .dataframe tbody tr th {\n",
       "        vertical-align: top;\n",
       "    }\n",
       "\n",
       "    .dataframe thead th {\n",
       "        text-align: right;\n",
       "    }\n",
       "</style>\n",
       "<table border=\"1\" class=\"dataframe\">\n",
       "  <thead>\n",
       "    <tr style=\"text-align: right;\">\n",
       "      <th></th>\n",
       "      <th>teaching</th>\n",
       "      <th>teaching.1</th>\n",
       "      <th>coursecontent</th>\n",
       "      <th>coursecontent.1</th>\n",
       "      <th>examination</th>\n",
       "      <th>Examination</th>\n",
       "      <th>labwork</th>\n",
       "      <th>labwork.1</th>\n",
       "      <th>library_facilities</th>\n",
       "      <th>library_facilities</th>\n",
       "      <th>extracurricular</th>\n",
       "      <th>extracurricular.1</th>\n",
       "    </tr>\n",
       "  </thead>\n",
       "  <tbody>\n",
       "    <tr>\n",
       "      <th>0</th>\n",
       "      <td>0</td>\n",
       "      <td>teacher are punctual but they should also give...</td>\n",
       "      <td>0.0</td>\n",
       "      <td>content of courses are average</td>\n",
       "      <td>1.0</td>\n",
       "      <td>examination pattern is good</td>\n",
       "      <td>-1</td>\n",
       "      <td>not satisfactory, lab work must include latest...</td>\n",
       "      <td>0.0</td>\n",
       "      <td>library facilities are good but number of book...</td>\n",
       "      <td>1</td>\n",
       "      <td>extracurricular activities are excellent and p...</td>\n",
       "    </tr>\n",
       "    <tr>\n",
       "      <th>1</th>\n",
       "      <td>1</td>\n",
       "      <td>Good</td>\n",
       "      <td>-1.0</td>\n",
       "      <td>Not good</td>\n",
       "      <td>1.0</td>\n",
       "      <td>Good</td>\n",
       "      <td>1</td>\n",
       "      <td>Good</td>\n",
       "      <td>-1.0</td>\n",
       "      <td>Not good</td>\n",
       "      <td>1</td>\n",
       "      <td>Good</td>\n",
       "    </tr>\n",
       "    <tr>\n",
       "      <th>2</th>\n",
       "      <td>1</td>\n",
       "      <td>Excellent lectures are delivered by teachers a...</td>\n",
       "      <td>1.0</td>\n",
       "      <td>All courses material provide very good knowled...</td>\n",
       "      <td>1.0</td>\n",
       "      <td>Exam pattern is up to the mark and the Cgpa de...</td>\n",
       "      <td>1</td>\n",
       "      <td>Lab work is properly covered in the labs by th...</td>\n",
       "      <td>1.0</td>\n",
       "      <td>Library facilities are excellent in terms of g...</td>\n",
       "      <td>1</td>\n",
       "      <td>Extra curricular activities also help students...</td>\n",
       "    </tr>\n",
       "    <tr>\n",
       "      <th>3</th>\n",
       "      <td>1</td>\n",
       "      <td>Good</td>\n",
       "      <td>-1.0</td>\n",
       "      <td>Content of course is perfectly in line with th...</td>\n",
       "      <td>-1.0</td>\n",
       "      <td>Again the university tests students of their a...</td>\n",
       "      <td>1</td>\n",
       "      <td>Good</td>\n",
       "      <td>0.0</td>\n",
       "      <td>Its the best thing i have seen in this univers...</td>\n",
       "      <td>-1</td>\n",
       "      <td>Complete wastage of time. Again this opinion i...</td>\n",
       "    </tr>\n",
       "    <tr>\n",
       "      <th>4</th>\n",
       "      <td>1</td>\n",
       "      <td>teachers give us all the information required ...</td>\n",
       "      <td>1.0</td>\n",
       "      <td>content of courses improves my knowledge</td>\n",
       "      <td>1.0</td>\n",
       "      <td>examination pattern is good</td>\n",
       "      <td>1</td>\n",
       "      <td>practical work provides detail knowledge of th...</td>\n",
       "      <td>1.0</td>\n",
       "      <td>library has huge collection of books from diff...</td>\n",
       "      <td>1</td>\n",
       "      <td>extracurricular activities increases mental an...</td>\n",
       "    </tr>\n",
       "  </tbody>\n",
       "</table>\n",
       "</div>"
      ],
      "text/plain": [
       "   teaching                                         teaching.1  coursecontent  \\\n",
       "0         0  teacher are punctual but they should also give...            0.0   \n",
       "1         1                                              Good            -1.0   \n",
       "2         1  Excellent lectures are delivered by teachers a...            1.0   \n",
       "3         1                                               Good           -1.0   \n",
       "4         1  teachers give us all the information required ...            1.0   \n",
       "\n",
       "                                     coursecontent.1  examination  \\\n",
       "0                     content of courses are average          1.0   \n",
       "1                                           Not good          1.0   \n",
       "2  All courses material provide very good knowled...          1.0   \n",
       "3  Content of course is perfectly in line with th...         -1.0   \n",
       "4           content of courses improves my knowledge          1.0   \n",
       "\n",
       "                                         Examination  labwork  \\\n",
       "0                        examination pattern is good       -1   \n",
       "1                                               Good        1   \n",
       "2  Exam pattern is up to the mark and the Cgpa de...        1   \n",
       "3  Again the university tests students of their a...        1   \n",
       "4                        examination pattern is good        1   \n",
       "\n",
       "                                           labwork.1  library_facilities  \\\n",
       "0  not satisfactory, lab work must include latest...                 0.0   \n",
       "1                                              Good                 -1.0   \n",
       "2  Lab work is properly covered in the labs by th...                 1.0   \n",
       "3                                               Good                 0.0   \n",
       "4  practical work provides detail knowledge of th...                 1.0   \n",
       "\n",
       "                                  library_facilities  extracurricular  \\\n",
       "0  library facilities are good but number of book...                1   \n",
       "1                                          Not good                 1   \n",
       "2  Library facilities are excellent in terms of g...                1   \n",
       "3  Its the best thing i have seen in this univers...               -1   \n",
       "4  library has huge collection of books from diff...                1   \n",
       "\n",
       "                                   extracurricular.1  \n",
       "0  extracurricular activities are excellent and p...  \n",
       "1                                              Good   \n",
       "2  Extra curricular activities also help students...  \n",
       "3  Complete wastage of time. Again this opinion i...  \n",
       "4  extracurricular activities increases mental an...  "
      ]
     },
     "execution_count": 3,
     "metadata": {},
     "output_type": "execute_result"
    }
   ],
   "source": [
    "df=pd.read_excel(r'C:\\\\Users\\\\HP\\Downloads\\archive (10)\\finalDataset0.2.xlsx')\n",
    "\n",
    "df.info()\n",
    "print('*'*50)\n",
    "df.head()\n",
    "\n",
    "\n",
    "#reading The data"
   ]
  },
  {
   "cell_type": "code",
   "execution_count": 4,
   "id": "1e418979",
   "metadata": {},
   "outputs": [
    {
     "data": {
      "text/plain": [
       "teaching               0\n",
       "teaching.1             0\n",
       "coursecontent          1\n",
       "coursecontent.1        0\n",
       "examination            1\n",
       "Examination            0\n",
       "labwork                0\n",
       "labwork.1              0\n",
       "library_facilities     3\n",
       " library_facilities    0\n",
       "extracurricular        0\n",
       "extracurricular.1      0\n",
       "dtype: int64"
      ]
     },
     "execution_count": 4,
     "metadata": {},
     "output_type": "execute_result"
    }
   ],
   "source": [
    "df.isnull().sum()\n",
    "\n",
    "#checking for the missing data"
   ]
  },
  {
   "cell_type": "code",
   "execution_count": 5,
   "id": "cea16c3d",
   "metadata": {},
   "outputs": [
    {
     "name": "stdout",
     "output_type": "stream",
     "text": [
      "Data Shape: That is we have 185 rows : & and headers 12:\n"
     ]
    }
   ],
   "source": [
    "shaping=df.shape\n",
    "\n",
    "print('Data Shape: That is we have {} rows : & and headers {}:'.format(shaping[0],shaping[1]))\n",
    "\n",
    "#getiing The shape of The data"
   ]
  },
  {
   "cell_type": "code",
   "execution_count": 6,
   "id": "898b6fd0",
   "metadata": {},
   "outputs": [],
   "source": [
    "df=df.dropna()"
   ]
  },
  {
   "cell_type": "code",
   "execution_count": 7,
   "id": "28b4b085",
   "metadata": {},
   "outputs": [
    {
     "data": {
      "text/plain": [
       "teaching               0\n",
       "teaching.1             0\n",
       "coursecontent          0\n",
       "coursecontent.1        0\n",
       "examination            0\n",
       "Examination            0\n",
       "labwork                0\n",
       "labwork.1              0\n",
       "library_facilities     0\n",
       " library_facilities    0\n",
       "extracurricular        0\n",
       "extracurricular.1      0\n",
       "dtype: int64"
      ]
     },
     "execution_count": 7,
     "metadata": {},
     "output_type": "execute_result"
    }
   ],
   "source": [
    "df.isnull().sum()"
   ]
  },
  {
   "cell_type": "code",
   "execution_count": 8,
   "id": "2a567390",
   "metadata": {},
   "outputs": [
    {
     "data": {
      "text/html": [
       "<div>\n",
       "<style scoped>\n",
       "    .dataframe tbody tr th:only-of-type {\n",
       "        vertical-align: middle;\n",
       "    }\n",
       "\n",
       "    .dataframe tbody tr th {\n",
       "        vertical-align: top;\n",
       "    }\n",
       "\n",
       "    .dataframe thead th {\n",
       "        text-align: right;\n",
       "    }\n",
       "</style>\n",
       "<table border=\"1\" class=\"dataframe\">\n",
       "  <thead>\n",
       "    <tr style=\"text-align: right;\">\n",
       "      <th></th>\n",
       "      <th>teaching</th>\n",
       "      <th>teaching.1</th>\n",
       "      <th>coursecontent</th>\n",
       "      <th>coursecontent.1</th>\n",
       "      <th>examination</th>\n",
       "      <th>Examination</th>\n",
       "      <th>labwork</th>\n",
       "      <th>labwork.1</th>\n",
       "      <th>library_facilities</th>\n",
       "      <th>library_facilities</th>\n",
       "      <th>extracurricular</th>\n",
       "      <th>extracurricular.1</th>\n",
       "    </tr>\n",
       "  </thead>\n",
       "  <tbody>\n",
       "    <tr>\n",
       "      <th>0</th>\n",
       "      <td>0</td>\n",
       "      <td>teacher are punctual but they should also give...</td>\n",
       "      <td>0.0</td>\n",
       "      <td>content of courses are average</td>\n",
       "      <td>1.0</td>\n",
       "      <td>examination pattern is good</td>\n",
       "      <td>-1</td>\n",
       "      <td>not satisfactory, lab work must include latest...</td>\n",
       "      <td>0.0</td>\n",
       "      <td>library facilities are good but number of book...</td>\n",
       "      <td>1</td>\n",
       "      <td>extracurricular activities are excellent and p...</td>\n",
       "    </tr>\n",
       "    <tr>\n",
       "      <th>1</th>\n",
       "      <td>1</td>\n",
       "      <td>Good</td>\n",
       "      <td>-1.0</td>\n",
       "      <td>Not good</td>\n",
       "      <td>1.0</td>\n",
       "      <td>Good</td>\n",
       "      <td>1</td>\n",
       "      <td>Good</td>\n",
       "      <td>-1.0</td>\n",
       "      <td>Not good</td>\n",
       "      <td>1</td>\n",
       "      <td>Good</td>\n",
       "    </tr>\n",
       "    <tr>\n",
       "      <th>2</th>\n",
       "      <td>1</td>\n",
       "      <td>Excellent lectures are delivered by teachers a...</td>\n",
       "      <td>1.0</td>\n",
       "      <td>All courses material provide very good knowled...</td>\n",
       "      <td>1.0</td>\n",
       "      <td>Exam pattern is up to the mark and the Cgpa de...</td>\n",
       "      <td>1</td>\n",
       "      <td>Lab work is properly covered in the labs by th...</td>\n",
       "      <td>1.0</td>\n",
       "      <td>Library facilities are excellent in terms of g...</td>\n",
       "      <td>1</td>\n",
       "      <td>Extra curricular activities also help students...</td>\n",
       "    </tr>\n",
       "    <tr>\n",
       "      <th>3</th>\n",
       "      <td>1</td>\n",
       "      <td>Good</td>\n",
       "      <td>-1.0</td>\n",
       "      <td>Content of course is perfectly in line with th...</td>\n",
       "      <td>-1.0</td>\n",
       "      <td>Again the university tests students of their a...</td>\n",
       "      <td>1</td>\n",
       "      <td>Good</td>\n",
       "      <td>0.0</td>\n",
       "      <td>Its the best thing i have seen in this univers...</td>\n",
       "      <td>-1</td>\n",
       "      <td>Complete wastage of time. Again this opinion i...</td>\n",
       "    </tr>\n",
       "    <tr>\n",
       "      <th>4</th>\n",
       "      <td>1</td>\n",
       "      <td>teachers give us all the information required ...</td>\n",
       "      <td>1.0</td>\n",
       "      <td>content of courses improves my knowledge</td>\n",
       "      <td>1.0</td>\n",
       "      <td>examination pattern is good</td>\n",
       "      <td>1</td>\n",
       "      <td>practical work provides detail knowledge of th...</td>\n",
       "      <td>1.0</td>\n",
       "      <td>library has huge collection of books from diff...</td>\n",
       "      <td>1</td>\n",
       "      <td>extracurricular activities increases mental an...</td>\n",
       "    </tr>\n",
       "  </tbody>\n",
       "</table>\n",
       "</div>"
      ],
      "text/plain": [
       "   teaching                                         teaching.1  coursecontent  \\\n",
       "0         0  teacher are punctual but they should also give...            0.0   \n",
       "1         1                                              Good            -1.0   \n",
       "2         1  Excellent lectures are delivered by teachers a...            1.0   \n",
       "3         1                                               Good           -1.0   \n",
       "4         1  teachers give us all the information required ...            1.0   \n",
       "\n",
       "                                     coursecontent.1  examination  \\\n",
       "0                     content of courses are average          1.0   \n",
       "1                                           Not good          1.0   \n",
       "2  All courses material provide very good knowled...          1.0   \n",
       "3  Content of course is perfectly in line with th...         -1.0   \n",
       "4           content of courses improves my knowledge          1.0   \n",
       "\n",
       "                                         Examination  labwork  \\\n",
       "0                        examination pattern is good       -1   \n",
       "1                                               Good        1   \n",
       "2  Exam pattern is up to the mark and the Cgpa de...        1   \n",
       "3  Again the university tests students of their a...        1   \n",
       "4                        examination pattern is good        1   \n",
       "\n",
       "                                           labwork.1  library_facilities  \\\n",
       "0  not satisfactory, lab work must include latest...                 0.0   \n",
       "1                                              Good                 -1.0   \n",
       "2  Lab work is properly covered in the labs by th...                 1.0   \n",
       "3                                               Good                 0.0   \n",
       "4  practical work provides detail knowledge of th...                 1.0   \n",
       "\n",
       "                                  library_facilities  extracurricular  \\\n",
       "0  library facilities are good but number of book...                1   \n",
       "1                                          Not good                 1   \n",
       "2  Library facilities are excellent in terms of g...                1   \n",
       "3  Its the best thing i have seen in this univers...               -1   \n",
       "4  library has huge collection of books from diff...                1   \n",
       "\n",
       "                                   extracurricular.1  \n",
       "0  extracurricular activities are excellent and p...  \n",
       "1                                              Good   \n",
       "2  Extra curricular activities also help students...  \n",
       "3  Complete wastage of time. Again this opinion i...  \n",
       "4  extracurricular activities increases mental an...  "
      ]
     },
     "execution_count": 8,
     "metadata": {},
     "output_type": "execute_result"
    }
   ],
   "source": [
    "df.head()"
   ]
  },
  {
   "cell_type": "code",
   "execution_count": 9,
   "id": "795a6dfd",
   "metadata": {},
   "outputs": [
    {
     "data": {
      "text/plain": [
       "0      teacher are punctual but they should also give...\n",
       "1                                                  Good \n",
       "2      Excellent lectures are delivered by teachers a...\n",
       "3                                                   Good\n",
       "4      teachers give us all the information required ...\n",
       "                             ...                        \n",
       "179                                                 GOOD\n",
       "181    all the given terms are good regarding the uni...\n",
       "182    All the terms are good regarding the universit...\n",
       "183    Some of the teacher are un experienced. Also t...\n",
       "184                                     IT IS GOING GOOD\n",
       "Name: teaching.1, Length: 181, dtype: object"
      ]
     },
     "execution_count": 9,
     "metadata": {},
     "output_type": "execute_result"
    }
   ],
   "source": [
    "df['teaching.1']"
   ]
  },
  {
   "cell_type": "code",
   "execution_count": 10,
   "id": "540e1ba8",
   "metadata": {},
   "outputs": [],
   "source": [
    "dframe=df['teaching.1'].copy().reset_index()"
   ]
  },
  {
   "cell_type": "code",
   "execution_count": 11,
   "id": "bd25578a",
   "metadata": {},
   "outputs": [
    {
     "data": {
      "text/html": [
       "<div>\n",
       "<style scoped>\n",
       "    .dataframe tbody tr th:only-of-type {\n",
       "        vertical-align: middle;\n",
       "    }\n",
       "\n",
       "    .dataframe tbody tr th {\n",
       "        vertical-align: top;\n",
       "    }\n",
       "\n",
       "    .dataframe thead th {\n",
       "        text-align: right;\n",
       "    }\n",
       "</style>\n",
       "<table border=\"1\" class=\"dataframe\">\n",
       "  <thead>\n",
       "    <tr style=\"text-align: right;\">\n",
       "      <th></th>\n",
       "      <th>index</th>\n",
       "      <th>teaching.1</th>\n",
       "    </tr>\n",
       "  </thead>\n",
       "  <tbody>\n",
       "    <tr>\n",
       "      <th>0</th>\n",
       "      <td>0</td>\n",
       "      <td>teacher are punctual but they should also give...</td>\n",
       "    </tr>\n",
       "    <tr>\n",
       "      <th>1</th>\n",
       "      <td>1</td>\n",
       "      <td>Good</td>\n",
       "    </tr>\n",
       "    <tr>\n",
       "      <th>2</th>\n",
       "      <td>2</td>\n",
       "      <td>Excellent lectures are delivered by teachers a...</td>\n",
       "    </tr>\n",
       "    <tr>\n",
       "      <th>3</th>\n",
       "      <td>3</td>\n",
       "      <td>Good</td>\n",
       "    </tr>\n",
       "    <tr>\n",
       "      <th>4</th>\n",
       "      <td>4</td>\n",
       "      <td>teachers give us all the information required ...</td>\n",
       "    </tr>\n",
       "  </tbody>\n",
       "</table>\n",
       "</div>"
      ],
      "text/plain": [
       "   index                                         teaching.1\n",
       "0      0  teacher are punctual but they should also give...\n",
       "1      1                                              Good \n",
       "2      2  Excellent lectures are delivered by teachers a...\n",
       "3      3                                               Good\n",
       "4      4  teachers give us all the information required ..."
      ]
     },
     "execution_count": 11,
     "metadata": {},
     "output_type": "execute_result"
    }
   ],
   "source": [
    "dframe.head()"
   ]
  },
  {
   "cell_type": "code",
   "execution_count": 12,
   "id": "6c364ea4",
   "metadata": {},
   "outputs": [],
   "source": [
    "dframe.columns=['label','text']"
   ]
  },
  {
   "cell_type": "code",
   "execution_count": 13,
   "id": "ffb46c9a",
   "metadata": {},
   "outputs": [
    {
     "data": {
      "text/html": [
       "<div>\n",
       "<style scoped>\n",
       "    .dataframe tbody tr th:only-of-type {\n",
       "        vertical-align: middle;\n",
       "    }\n",
       "\n",
       "    .dataframe tbody tr th {\n",
       "        vertical-align: top;\n",
       "    }\n",
       "\n",
       "    .dataframe thead th {\n",
       "        text-align: right;\n",
       "    }\n",
       "</style>\n",
       "<table border=\"1\" class=\"dataframe\">\n",
       "  <thead>\n",
       "    <tr style=\"text-align: right;\">\n",
       "      <th></th>\n",
       "      <th>label</th>\n",
       "      <th>text</th>\n",
       "    </tr>\n",
       "  </thead>\n",
       "  <tbody>\n",
       "    <tr>\n",
       "      <th>0</th>\n",
       "      <td>0</td>\n",
       "      <td>teacher are punctual but they should also give...</td>\n",
       "    </tr>\n",
       "    <tr>\n",
       "      <th>1</th>\n",
       "      <td>1</td>\n",
       "      <td>Good</td>\n",
       "    </tr>\n",
       "    <tr>\n",
       "      <th>2</th>\n",
       "      <td>2</td>\n",
       "      <td>Excellent lectures are delivered by teachers a...</td>\n",
       "    </tr>\n",
       "    <tr>\n",
       "      <th>3</th>\n",
       "      <td>3</td>\n",
       "      <td>Good</td>\n",
       "    </tr>\n",
       "    <tr>\n",
       "      <th>4</th>\n",
       "      <td>4</td>\n",
       "      <td>teachers give us all the information required ...</td>\n",
       "    </tr>\n",
       "  </tbody>\n",
       "</table>\n",
       "</div>"
      ],
      "text/plain": [
       "   label                                               text\n",
       "0      0  teacher are punctual but they should also give...\n",
       "1      1                                              Good \n",
       "2      2  Excellent lectures are delivered by teachers a...\n",
       "3      3                                               Good\n",
       "4      4  teachers give us all the information required ..."
      ]
     },
     "execution_count": 13,
     "metadata": {},
     "output_type": "execute_result"
    }
   ],
   "source": [
    "dframe.head()"
   ]
  },
  {
   "cell_type": "code",
   "execution_count": 14,
   "id": "7b5c9390",
   "metadata": {},
   "outputs": [
    {
     "data": {
      "text/plain": [
       "\"teacher are punctual but they should also give us the some practical knowledge other than theortical Good  Excellent lectures are delivered by teachers and all teachers are very punctual. Good teachers give us all the information required to improve the performance. Yes good and punctual It is good Good Good It's good when compare with my Btech lectures and teaching activities. Good way of teaching is good University teaching here is very much dependent upon slides,though it is a easy way of teaching but still leaving some concepts unclear..otherwise interaction with the faculty is good.Lecture delivery sometimes is not upto the mark and punctuality is  fine.  Good Good  As compared to other colleges and university our university is perfect in all the aspects Good Lectures helps in clear our concept Talk about punctuality, it's really good but the lecture delivery is somehow not appreciated because every teacher has different style of teaching, so lack of knowledge in terms of subject is there and interaction is also kind of boring. A teacher should be entertaining as well but they are really not. All they want us to be studios and disciplined which is really not the thinking of every student. University is very good at delivering proper lectures,also the interaction with students is descent. Sometimes the teachers lack in terms of punctuality but overall university is giving a good input.  Good Good lecturer are punctual and can interact them easily. Good Good Punctuality is good. Most of the teachers are not interacting with students . Good nice lecture delivery is not so good It's good Discipline, punctuality , lecture delivery all are good but hv to do some work for quality of lecture Interaction is very good,accurate supplement material is provided but recommendation of books is very poor,the change of a particular teacher after 3 months or a semester of same subject causes problems Perfect It is really gud Very good teaching and management but too much load on student and working hours in terms of lecture delivery that is good.in terms of punctuality that is also good but in terms of intraction that is very bad. There are some teachers they donot interact and do not litsn our problms that means they do not coprate. According to me everything is going well in accordance to interaction.More than enough is served.  Very good teaching and management but too much load on student and working hours not effective and satisfactory in terms of lecture delivery by all the faculty . Good Good Accurate It's good Good it is good depending on the faculty maintained punctuality, good lecture delivery average average good good good good average good it is quite good , depending on teacher and their experience it is quite good , depends upon teacher and their experience the way of teaching is good but the time more than enough good teaching delivery good, teacher is delivery the lecture in the best way they can good and qualified teachers but few lacks in interaction with students and fails to describe a topic average very good teaching facilities, lecture given are fruitful and teachers are punctual interaction is good but not with mostly male lecturers.punctuality is maintained by everyone but lecture delivery not peak quality. all things are good all things are good all activties are good all activties are good good All is good. no other university is so serious about the concept of practicals. lecture delivery depends on teacher's knowledge, punctuality is good Good way of teaching is average not so good average good the staff is highly punctual ad interactive and encourage students to participate in the class staff and faculty members are always available for interaction, very punctual and delivery of lecture can be improved good delivery good our university is good in terms of lecture delivery,interaction and punctuality good very good good interaction satisfied, lecture delivery good,punctuality always on time Excellent but it depends upon teacher good good Good good Good Good  very good. it is ok some teachers aren't doing their jobs in very well manner Some of the teachers are not well experienced but they are interactive and helpful and punctual. not all the teachers are teaching well but it's fine EXCELLENT The faculty is good ,interaction between student and teacher is also good not good Good Good some of our faculty member are not so experienced that's why most of the time we are facing problems subjects like CSE(c++) good its to good  everything is good but when coming to some lectures who dont have a good grip on subject,they dont behave well with students and they dont even teach all the concepts in the subject.  excellent everything was good regarding to university but, some lecturers don't have grip on the subject and lag in the teaching normal good good teaching activities of our university is good. i am satisfied with it. GOOD everything is good for faculty satisfactory GOOD all are good good but not good . sir improve the subject The university is good but it also has a long way to go. More teachers should have their PhD and college fests related to academic curriculum must be improved to a great extent and must be managed properly.The interaction is good, lecture delivery needs more lucidity. The punctuality is top notch. our university is good in punctuality,lecture delivery but it is not good in terms of interaction average interaction is very less ,when it comes to lecture delivery its fine but the co cordination not there between the lectueres good All lectures are giving their best to teach the students our university is very good but in terms of interaction of teachers wd students is not at all fair because they interact wd only students understands his/her teaching they don't make remaining students to understand the topic  The university consists of a whole world in itself.It is diverse and manages to conduct all events properly.I love being the part of this university where we get equal and all opportunities in all respects and fields. teachers are pretty interactive,But it all depends on the student to gain as much as knowledge he can from the teacher.Teachers are punctual and very helpful during exams time. teaching delivery is good .but it is better to reduce there speed of  lecture delivery to understand the student better overall rating on this activity is 4.5/5 .very nice teaching and interaction between students and lectures was good, every time there will be new and fresh style in  delivering the lectures ,thanks.\\n\\n\\n  excellent, but reduse the speed of teaching  ,up to understand the students teaching is ok but the interaction with the students need to improve, i mean they have to focus on dull students more  than intelligents.... Interaction is good but it should b more ...rest is too perfect teachers are good in subject,and punctuality Everything would be fine if there are less number of students in our btech CSE. good  faculties are doing quite well but need more senior lecturers. satisfied Well and Good Good good university management is extordinary but some of the faculty is very bad good good good some lectures are excellent,but not everyone It is very good learning in this university its  booring good Good teaching is good but some lecturers are showing partiality between south people and north people excellent teaching is good but some teachers are not able to interact properly and are not able to clear the concepts properly, teachers are punctual. \\n good good I am very much satisfied with teaching faculty interms of iteraction,lecture delivery, punctuality etc they are showing partiality between north indians and south indians good Interaction is satisfying, Lecture delivery is Good, Punctuality is Excellent\\n\\n staff is showing partiality between north indians and south indians  excellent university  the mode of teaching is completely different than any other university in india. lecturers are very friendly with every one they interact just like friends and they are very punctual lecture delivery and punctuality was good but the interaction with students was not good. punctuality and lecture is good here but interaction isn't good. good enough In this university there is good interaction with the students, Teachers in this university can deliver the lectures effectively, There is good punctuality in this university\\n\\n Very good indeed.  Teaching is excellent,but lecture delivery is not up to the mark.Punctuality is good interaction of some faculty was good but not all faculty.. good, and also like the teaching style Interaction between students and teachers is good ,The lectures delivery is fine, punctuality is good\\n \\n\\n not bad Its Quite Good very good indeed not bad.. teaching is good some lecturers are showing partiality between south people and north people I WAS A STUDENT OF A BOARDING SCHOOL .....(jnv) I STUDIED FOR 7  YEARS THERE RESIDING IN HOSTEL ..NOW LIVING IN LPU IS SAME LIKE THAT..AND STILL MORE SAME AND PUNCTUALITY IS SHOWN HERE BY BOTH TEACHERS AND STUDENTS...AND ALSO BY THE STAFF..          SECURITY IS ABOVE 90%(IN CASE OF  STUDENT IS WELL MANURED)  ....CLASSES REGULAR ....SPORTS DAILY.....PARTICIPATION WELL/.......QUALITY BELOW AVERAGE All terms are good regarding the university activities GOOD all the given terms are good regarding the university  All the terms are good regarding the university activities. Some of the teacher are un experienced. Also they are unfair and baised. Infact many of the teachers are having few or no experience about the subject  IT IS GOING GOOD\""
      ]
     },
     "execution_count": 14,
     "metadata": {},
     "output_type": "execute_result"
    }
   ],
   "source": [
    "texting=dframe['text']\n",
    "\n",
    "' '.join(texting)"
   ]
  },
  {
   "cell_type": "code",
   "execution_count": 15,
   "id": "598020f4",
   "metadata": {},
   "outputs": [
    {
     "data": {
      "text/html": [
       "<div>\n",
       "<style scoped>\n",
       "    .dataframe tbody tr th:only-of-type {\n",
       "        vertical-align: middle;\n",
       "    }\n",
       "\n",
       "    .dataframe tbody tr th {\n",
       "        vertical-align: top;\n",
       "    }\n",
       "\n",
       "    .dataframe thead th {\n",
       "        text-align: right;\n",
       "    }\n",
       "</style>\n",
       "<table border=\"1\" class=\"dataframe\">\n",
       "  <thead>\n",
       "    <tr style=\"text-align: right;\">\n",
       "      <th></th>\n",
       "      <th>label</th>\n",
       "      <th>text</th>\n",
       "    </tr>\n",
       "  </thead>\n",
       "  <tbody>\n",
       "    <tr>\n",
       "      <th>0</th>\n",
       "      <td>0</td>\n",
       "      <td>teacher are punctual but they should also give...</td>\n",
       "    </tr>\n",
       "    <tr>\n",
       "      <th>1</th>\n",
       "      <td>1</td>\n",
       "      <td>Good</td>\n",
       "    </tr>\n",
       "    <tr>\n",
       "      <th>2</th>\n",
       "      <td>2</td>\n",
       "      <td>Excellent lectures are delivered by teachers a...</td>\n",
       "    </tr>\n",
       "    <tr>\n",
       "      <th>3</th>\n",
       "      <td>3</td>\n",
       "      <td>Good</td>\n",
       "    </tr>\n",
       "    <tr>\n",
       "      <th>4</th>\n",
       "      <td>4</td>\n",
       "      <td>teachers give us all the information required ...</td>\n",
       "    </tr>\n",
       "    <tr>\n",
       "      <th>...</th>\n",
       "      <td>...</td>\n",
       "      <td>...</td>\n",
       "    </tr>\n",
       "    <tr>\n",
       "      <th>176</th>\n",
       "      <td>179</td>\n",
       "      <td>GOOD</td>\n",
       "    </tr>\n",
       "    <tr>\n",
       "      <th>177</th>\n",
       "      <td>181</td>\n",
       "      <td>all the given terms are good regarding the uni...</td>\n",
       "    </tr>\n",
       "    <tr>\n",
       "      <th>178</th>\n",
       "      <td>182</td>\n",
       "      <td>All the terms are good regarding the universit...</td>\n",
       "    </tr>\n",
       "    <tr>\n",
       "      <th>179</th>\n",
       "      <td>183</td>\n",
       "      <td>Some of the teacher are un experienced. Also t...</td>\n",
       "    </tr>\n",
       "    <tr>\n",
       "      <th>180</th>\n",
       "      <td>184</td>\n",
       "      <td>IT IS GOING GOOD</td>\n",
       "    </tr>\n",
       "  </tbody>\n",
       "</table>\n",
       "<p>181 rows × 2 columns</p>\n",
       "</div>"
      ],
      "text/plain": [
       "     label                                               text\n",
       "0        0  teacher are punctual but they should also give...\n",
       "1        1                                              Good \n",
       "2        2  Excellent lectures are delivered by teachers a...\n",
       "3        3                                               Good\n",
       "4        4  teachers give us all the information required ...\n",
       "..     ...                                                ...\n",
       "176    179                                               GOOD\n",
       "177    181  all the given terms are good regarding the uni...\n",
       "178    182  All the terms are good regarding the universit...\n",
       "179    183  Some of the teacher are un experienced. Also t...\n",
       "180    184                                   IT IS GOING GOOD\n",
       "\n",
       "[181 rows x 2 columns]"
      ]
     },
     "execution_count": 15,
     "metadata": {},
     "output_type": "execute_result"
    }
   ],
   "source": [
    "dframe"
   ]
  },
  {
   "cell_type": "code",
   "execution_count": 16,
   "id": "8b236097",
   "metadata": {},
   "outputs": [],
   "source": [
    "dframe['text']=dframe['text'].apply(lambda X: X.translate(str.maketrans(' ',' ',string.punctuation)))"
   ]
  },
  {
   "cell_type": "code",
   "execution_count": 17,
   "id": "0c289fa1",
   "metadata": {},
   "outputs": [
    {
     "name": "stderr",
     "output_type": "stream",
     "text": [
      "C:\\Users\\HP\\AppData\\Local\\Temp\\ipykernel_15596\\1291915651.py:2: FutureWarning: The default value of regex will change from True to False in a future version.\n",
      "  dframe['text']=dframe['text'].str.replace('\\d+',' ')\n"
     ]
    }
   ],
   "source": [
    "dframe['text']=dframe['text'].str.lower()\n",
    "dframe['text']=dframe['text'].str.replace('\\d+',' ')"
   ]
  },
  {
   "cell_type": "code",
   "execution_count": 18,
   "id": "f999f500",
   "metadata": {},
   "outputs": [
    {
     "data": {
      "text/plain": [
       "'teacher are punctual but they should also give us the some practical knowledge other than theortical good  excellent lectures are delivered by teachers and all teachers are very punctual good teachers give us all the information required to improve the performance yes good and punctual it is good good good its good when compare with my btech lectures and teaching activities good way of teaching is good university teaching here is very much dependent upon slidesthough it is a easy way of teaching but still leaving some concepts unclearotherwise interaction with the faculty is goodlecture delivery sometimes is not upto the mark and punctuality is  fine  good good  as compared to other colleges and university our university is perfect in all the aspects good lectures helps in clear our concept talk about punctuality its really good but the lecture delivery is somehow not appreciated because every teacher has different style of teaching so lack of knowledge in terms of subject is there and interaction is also kind of boring a teacher should be entertaining as well but they are really not all they want us to be studios and disciplined which is really not the thinking of every student university is very good at delivering proper lecturesalso the interaction with students is descent sometimes the teachers lack in terms of punctuality but overall university is giving a good input  good good lecturer are punctual and can interact them easily good good punctuality is good most of the teachers are not interacting with students  good nice lecture delivery is not so good its good discipline punctuality  lecture delivery all are good but hv to do some work for quality of lecture interaction is very goodaccurate supplement material is provided but recommendation of books is very poorthe change of a particular teacher after   months or a semester of same subject causes problems perfect it is really gud very good teaching and management but too much load on student and working hours in terms of lecture delivery that is goodin terms of punctuality that is also good but in terms of intraction that is very bad there are some teachers they donot interact and do not litsn our problms that means they do not coprate according to me everything is going well in accordance to interactionmore than enough is served  very good teaching and management but too much load on student and working hours not effective and satisfactory in terms of lecture delivery by all the faculty  good good accurate its good good it is good depending on the faculty maintained punctuality good lecture delivery average average good good good good average good it is quite good  depending on teacher and their experience it is quite good  depends upon teacher and their experience the way of teaching is good but the time more than enough good teaching delivery good teacher is delivery the lecture in the best way they can good and qualified teachers but few lacks in interaction with students and fails to describe a topic average very good teaching facilities lecture given are fruitful and teachers are punctual interaction is good but not with mostly male lecturerspunctuality is maintained by everyone but lecture delivery not peak quality all things are good all things are good all activties are good all activties are good good all is good no other university is so serious about the concept of practicals lecture delivery depends on teachers knowledge punctuality is good good way of teaching is average not so good average good the staff is highly punctual ad interactive and encourage students to participate in the class staff and faculty members are always available for interaction very punctual and delivery of lecture can be improved good delivery good our university is good in terms of lecture deliveryinteraction and punctuality good very good good interaction satisfied lecture delivery goodpunctuality always on time excellent but it depends upon teacher good good good good good good  very good it is ok some teachers arent doing their jobs in very well manner some of the teachers are not well experienced but they are interactive and helpful and punctual not all the teachers are teaching well but its fine excellent the faculty is good interaction between student and teacher is also good not good good good some of our faculty member are not so experienced thats why most of the time we are facing problems subjects like csec good its to good  everything is good but when coming to some lectures who dont have a good grip on subjectthey dont behave well with students and they dont even teach all the concepts in the subject  excellent everything was good regarding to university but some lecturers dont have grip on the subject and lag in the teaching normal good good teaching activities of our university is good i am satisfied with it good everything is good for faculty satisfactory good all are good good but not good  sir improve the subject the university is good but it also has a long way to go more teachers should have their phd and college fests related to academic curriculum must be improved to a great extent and must be managed properlythe interaction is good lecture delivery needs more lucidity the punctuality is top notch our university is good in punctualitylecture delivery but it is not good in terms of interaction average interaction is very less when it comes to lecture delivery its fine but the co cordination not there between the lectueres good all lectures are giving their best to teach the students our university is very good but in terms of interaction of teachers wd students is not at all fair because they interact wd only students understands hisher teaching they dont make remaining students to understand the topic  the university consists of a whole world in itselfit is diverse and manages to conduct all events properlyi love being the part of this university where we get equal and all opportunities in all respects and fields teachers are pretty interactivebut it all depends on the student to gain as much as knowledge he can from the teacherteachers are punctual and very helpful during exams time teaching delivery is good but it is better to reduce there speed of  lecture delivery to understand the student better overall rating on this activity is   very nice teaching and interaction between students and lectures was good every time there will be new and fresh style in  delivering the lectures thanks\\n\\n\\n  excellent but reduse the speed of teaching  up to understand the students teaching is ok but the interaction with the students need to improve i mean they have to focus on dull students more  than intelligents interaction is good but it should b more rest is too perfect teachers are good in subjectand punctuality everything would be fine if there are less number of students in our btech cse good  faculties are doing quite well but need more senior lecturers satisfied well and good good good university management is extordinary but some of the faculty is very bad good good good some lectures are excellentbut not everyone it is very good learning in this university its  booring good good teaching is good but some lecturers are showing partiality between south people and north people excellent teaching is good but some teachers are not able to interact properly and are not able to clear the concepts properly teachers are punctual \\n good good i am very much satisfied with teaching faculty interms of iteractionlecture delivery punctuality etc they are showing partiality between north indians and south indians good interaction is satisfying lecture delivery is good punctuality is excellent\\n\\n staff is showing partiality between north indians and south indians  excellent university  the mode of teaching is completely different than any other university in india lecturers are very friendly with every one they interact just like friends and they are very punctual lecture delivery and punctuality was good but the interaction with students was not good punctuality and lecture is good here but interaction isnt good good enough in this university there is good interaction with the students teachers in this university can deliver the lectures effectively there is good punctuality in this university\\n\\n very good indeed  teaching is excellentbut lecture delivery is not up to the markpunctuality is good interaction of some faculty was good but not all faculty good and also like the teaching style interaction between students and teachers is good the lectures delivery is fine punctuality is good\\n \\n\\n not bad its quite good very good indeed not bad teaching is good some lecturers are showing partiality between south people and north people i was a student of a boarding school jnv i studied for    years there residing in hostel now living in lpu is same like thatand still more same and punctuality is shown here by both teachers and studentsand also by the staff          security is above  in case of  student is well manured  classes regular sports dailyparticipation wellquality below average all terms are good regarding the university activities good all the given terms are good regarding the university  all the terms are good regarding the university activities some of the teacher are un experienced also they are unfair and baised infact many of the teachers are having few or no experience about the subject  it is going good'"
      ]
     },
     "execution_count": 18,
     "metadata": {},
     "output_type": "execute_result"
    }
   ],
   "source": [
    "texting=dframe['text']\n",
    "' '.join(texting)"
   ]
  },
  {
   "cell_type": "code",
   "execution_count": 19,
   "id": "60ee2a37",
   "metadata": {},
   "outputs": [],
   "source": [
    "def preprocessor(text):\n",
    "    text=re.sub('<[^>]*>','',text)\n",
    "    emojis=re.findall('(?::|;|=)(?:-)?(?:\\)|\\(|D|P)',text)\n",
    "    text=re.sub('[\\W]+',' ',text.lower()) +\\\n",
    "    ' '.join(emojis).replace('-','')\n",
    "    return text "
   ]
  },
  {
   "cell_type": "code",
   "execution_count": 21,
   "id": "d46c7f2a",
   "metadata": {},
   "outputs": [],
   "source": [
    "dframe['texts']=dframe['text'].apply(preprocessor)"
   ]
  },
  {
   "cell_type": "code",
   "execution_count": 23,
   "id": "5033667c",
   "metadata": {},
   "outputs": [
    {
     "data": {
      "text/plain": [
       "'teacher are punctual but they should also give us the some practical knowledge other than theortical good  excellent lectures are delivered by teachers and all teachers are very punctual good teachers give us all the information required to improve the performance yes good and punctual it is good good good its good when compare with my btech lectures and teaching activities good way of teaching is good university teaching here is very much dependent upon slidesthough it is a easy way of teaching but still leaving some concepts unclearotherwise interaction with the faculty is goodlecture delivery sometimes is not upto the mark and punctuality is fine  good good  as compared to other colleges and university our university is perfect in all the aspects good lectures helps in clear our concept talk about punctuality its really good but the lecture delivery is somehow not appreciated because every teacher has different style of teaching so lack of knowledge in terms of subject is there and interaction is also kind of boring a teacher should be entertaining as well but they are really not all they want us to be studios and disciplined which is really not the thinking of every student university is very good at delivering proper lecturesalso the interaction with students is descent sometimes the teachers lack in terms of punctuality but overall university is giving a good input  good good lecturer are punctual and can interact them easily good good punctuality is good most of the teachers are not interacting with students  good nice lecture delivery is not so good its good discipline punctuality lecture delivery all are good but hv to do some work for quality of lecture interaction is very goodaccurate supplement material is provided but recommendation of books is very poorthe change of a particular teacher after months or a semester of same subject causes problems perfect it is really gud very good teaching and management but too much load on student and working hours in terms of lecture delivery that is goodin terms of punctuality that is also good but in terms of intraction that is very bad there are some teachers they donot interact and do not litsn our problms that means they do not coprate according to me everything is going well in accordance to interactionmore than enough is served  very good teaching and management but too much load on student and working hours not effective and satisfactory in terms of lecture delivery by all the faculty  good good accurate its good good it is good depending on the faculty maintained punctuality good lecture delivery average average good good good good average good it is quite good depending on teacher and their experience it is quite good depends upon teacher and their experience the way of teaching is good but the time more than enough good teaching delivery good teacher is delivery the lecture in the best way they can good and qualified teachers but few lacks in interaction with students and fails to describe a topic average very good teaching facilities lecture given are fruitful and teachers are punctual interaction is good but not with mostly male lecturerspunctuality is maintained by everyone but lecture delivery not peak quality all things are good all things are good all activties are good all activties are good good all is good no other university is so serious about the concept of practicals lecture delivery depends on teachers knowledge punctuality is good good way of teaching is average not so good average good the staff is highly punctual ad interactive and encourage students to participate in the class staff and faculty members are always available for interaction very punctual and delivery of lecture can be improved good delivery good our university is good in terms of lecture deliveryinteraction and punctuality good very good good interaction satisfied lecture delivery goodpunctuality always on time excellent but it depends upon teacher good good good good good good  very good it is ok some teachers arent doing their jobs in very well manner some of the teachers are not well experienced but they are interactive and helpful and punctual not all the teachers are teaching well but its fine excellent the faculty is good interaction between student and teacher is also good not good good good some of our faculty member are not so experienced thats why most of the time we are facing problems subjects like csec good its to good  everything is good but when coming to some lectures who dont have a good grip on subjectthey dont behave well with students and they dont even teach all the concepts in the subject  excellent everything was good regarding to university but some lecturers dont have grip on the subject and lag in the teaching normal good good teaching activities of our university is good i am satisfied with it good everything is good for faculty satisfactory good all are good good but not good sir improve the subject the university is good but it also has a long way to go more teachers should have their phd and college fests related to academic curriculum must be improved to a great extent and must be managed properlythe interaction is good lecture delivery needs more lucidity the punctuality is top notch our university is good in punctualitylecture delivery but it is not good in terms of interaction average interaction is very less when it comes to lecture delivery its fine but the co cordination not there between the lectueres good all lectures are giving their best to teach the students our university is very good but in terms of interaction of teachers wd students is not at all fair because they interact wd only students understands hisher teaching they dont make remaining students to understand the topic  the university consists of a whole world in itselfit is diverse and manages to conduct all events properlyi love being the part of this university where we get equal and all opportunities in all respects and fields teachers are pretty interactivebut it all depends on the student to gain as much as knowledge he can from the teacherteachers are punctual and very helpful during exams time teaching delivery is good but it is better to reduce there speed of lecture delivery to understand the student better overall rating on this activity is very nice teaching and interaction between students and lectures was good every time there will be new and fresh style in delivering the lectures thanks  excellent but reduse the speed of teaching up to understand the students teaching is ok but the interaction with the students need to improve i mean they have to focus on dull students more than intelligents interaction is good but it should b more rest is too perfect teachers are good in subjectand punctuality everything would be fine if there are less number of students in our btech cse good  faculties are doing quite well but need more senior lecturers satisfied well and good good good university management is extordinary but some of the faculty is very bad good good good some lectures are excellentbut not everyone it is very good learning in this university its booring good good teaching is good but some lecturers are showing partiality between south people and north people excellent teaching is good but some teachers are not able to interact properly and are not able to clear the concepts properly teachers are punctual  good good i am very much satisfied with teaching faculty interms of iteractionlecture delivery punctuality etc they are showing partiality between north indians and south indians good interaction is satisfying lecture delivery is good punctuality is excellent  staff is showing partiality between north indians and south indians  excellent university the mode of teaching is completely different than any other university in india lecturers are very friendly with every one they interact just like friends and they are very punctual lecture delivery and punctuality was good but the interaction with students was not good punctuality and lecture is good here but interaction isnt good good enough in this university there is good interaction with the students teachers in this university can deliver the lectures effectively there is good punctuality in this university  very good indeed  teaching is excellentbut lecture delivery is not up to the markpunctuality is good interaction of some faculty was good but not all faculty good and also like the teaching style interaction between students and teachers is good the lectures delivery is fine punctuality is good  not bad its quite good very good indeed not bad teaching is good some lecturers are showing partiality between south people and north people i was a student of a boarding school jnv i studied for years there residing in hostel now living in lpu is same like thatand still more same and punctuality is shown here by both teachers and studentsand also by the staff security is above in case of student is well manured classes regular sports dailyparticipation wellquality below average all terms are good regarding the university activities good all the given terms are good regarding the university  all the terms are good regarding the university activities some of the teacher are un experienced also they are unfair and baised infact many of the teachers are having few or no experience about the subject  it is going good'"
      ]
     },
     "execution_count": 23,
     "metadata": {},
     "output_type": "execute_result"
    }
   ],
   "source": [
    "texting=' '.join(dframe['texts'])\n",
    "\n",
    "texting"
   ]
  },
  {
   "cell_type": "code",
   "execution_count": 26,
   "id": "2e43d212",
   "metadata": {},
   "outputs": [],
   "source": [
    "stopwords=nltk.corpus.stopwords.words('english')\n",
    "lemmatizer=nltk.stem.WordNetLemmatizer()"
   ]
  },
  {
   "cell_type": "code",
   "execution_count": 27,
   "id": "c0717e57",
   "metadata": {},
   "outputs": [],
   "source": [
    "dframe['texts']=dframe['texts'].apply(lambda X: ' '.join([i for i in X.split()if i not in stopwords]))\n",
    "dframe['texts']=dframe['texts'].apply(lambda X: ' '.join([i for i in X.split()if len(i) > 3]))"
   ]
  },
  {
   "cell_type": "code",
   "execution_count": 28,
   "id": "912c97dd",
   "metadata": {},
   "outputs": [
    {
     "data": {
      "text/plain": [
       "'teacher punctual also give practical knowledge theortical good excellent lectures delivered teachers teachers punctual good teachers give information required improve performance  good punctual good good good good compare btech lectures teaching activities good teaching good university teaching much dependent upon slidesthough easy teaching still leaving concepts unclearotherwise interaction faculty goodlecture delivery sometimes upto mark punctuality fine good good compared colleges university university perfect aspects good lectures helps clear concept talk punctuality really good lecture delivery somehow appreciated every teacher different style teaching lack knowledge terms subject interaction also kind boring teacher entertaining well really want studios disciplined really thinking every student university good delivering proper lecturesalso interaction students descent sometimes teachers lack terms punctuality overall university giving good input good good lecturer punctual interact easily good good punctuality good teachers interacting students good nice lecture delivery good good discipline punctuality lecture delivery good work quality lecture interaction goodaccurate supplement material provided recommendation books poorthe change particular teacher months semester subject causes problems perfect really good teaching management much load student working hours terms lecture delivery goodin terms punctuality also good terms intraction teachers donot interact litsn problms means coprate according everything going well accordance interactionmore enough served good teaching management much load student working hours effective satisfactory terms lecture delivery faculty good good accurate good good good depending faculty maintained punctuality good lecture delivery average average good good good good average good quite good depending teacher experience quite good depends upon teacher experience teaching good time enough good teaching delivery good teacher delivery lecture best good qualified teachers lacks interaction students fails describe topic average good teaching facilities lecture given fruitful teachers punctual interaction good mostly male lecturerspunctuality maintained everyone lecture delivery peak quality things good things good activties good activties good good good university serious concept practicals lecture delivery depends teachers knowledge punctuality good good teaching average good average good staff highly punctual interactive encourage students participate class staff faculty members always available interaction punctual delivery lecture improved good delivery good university good terms lecture deliveryinteraction punctuality good good good interaction satisfied lecture delivery goodpunctuality always time excellent depends upon teacher good good good good good good good  teachers arent jobs well manner teachers well experienced interactive helpful punctual teachers teaching well fine excellent faculty good interaction student teacher also good good good good faculty member experienced thats time facing problems subjects like csec good good everything good coming lectures dont good grip subjectthey dont behave well students dont even teach concepts subject excellent everything good regarding university lecturers dont grip subject teaching normal good good teaching activities university good satisfied good everything good faculty satisfactory good good good good improve subject university good also long teachers college fests related academic curriculum must improved great extent must managed properlythe interaction good lecture delivery needs lucidity punctuality notch university good punctualitylecture delivery good terms interaction average interaction less comes lecture delivery fine cordination lectueres good lectures giving best teach students university good terms interaction teachers students fair interact students understands hisher teaching dont make remaining students understand topic university consists whole world itselfit diverse manages conduct events properlyi love part university equal opportunities respects fields teachers pretty interactivebut depends student gain much knowledge teacherteachers punctual helpful exams time teaching delivery good better reduce speed lecture delivery understand student better overall rating activity nice teaching interaction students lectures good every time fresh style delivering lectures thanks excellent reduse speed teaching understand students teaching interaction students need improve mean focus dull students intelligents interaction good rest perfect teachers good subjectand punctuality everything would fine less number students btech good faculties quite well need senior lecturers satisfied well good good good university management extordinary faculty good good good lectures excellentbut everyone good learning university booring good good teaching good lecturers showing partiality south people north people excellent teaching good teachers able interact properly able clear concepts properly teachers punctual good good much satisfied teaching faculty interms iteractionlecture delivery punctuality showing partiality north indians south indians good interaction satisfying lecture delivery good punctuality excellent staff showing partiality north indians south indians excellent university mode teaching completely different university india lecturers friendly every interact like friends punctual lecture delivery punctuality good interaction students good punctuality lecture good interaction isnt good good enough university good interaction students teachers university deliver lectures effectively good punctuality university good indeed teaching excellentbut lecture delivery markpunctuality good interaction faculty good faculty good also like teaching style interaction students teachers good lectures delivery fine punctuality good  quite good good indeed  teaching good lecturers showing partiality south people north people student boarding school studied years residing hostel living like thatand still punctuality shown teachers studentsand also staff security case student well manured classes regular sports dailyparticipation wellquality average terms good regarding university activities good given terms good regarding university terms good regarding university activities teacher experienced also unfair baised infact many teachers experience subject going good'"
      ]
     },
     "execution_count": 28,
     "metadata": {},
     "output_type": "execute_result"
    }
   ],
   "source": [
    "texting=' '.join(dframe['texts'])\n",
    "\n",
    "texting"
   ]
  },
  {
   "cell_type": "code",
   "execution_count": 29,
   "id": "d1861fc9",
   "metadata": {},
   "outputs": [],
   "source": [
    "dframe['texts']=dframe['texts'].apply(lambda X:' '.join([lemmatizer.lemmatize(i)for i in X.split()]))"
   ]
  },
  {
   "cell_type": "code",
   "execution_count": 31,
   "id": "c8ba6f9a",
   "metadata": {},
   "outputs": [
    {
     "data": {
      "text/plain": [
       "'teacher punctual also give practical knowledge theortical good excellent lecture delivered teacher teacher punctual good teacher give information required improve performance  good punctual good good good good compare btech lecture teaching activity good teaching good university teaching much dependent upon slidesthough easy teaching still leaving concept unclearotherwise interaction faculty goodlecture delivery sometimes upto mark punctuality fine good good compared college university university perfect aspect good lecture help clear concept talk punctuality really good lecture delivery somehow appreciated every teacher different style teaching lack knowledge term subject interaction also kind boring teacher entertaining well really want studio disciplined really thinking every student university good delivering proper lecturesalso interaction student descent sometimes teacher lack term punctuality overall university giving good input good good lecturer punctual interact easily good good punctuality good teacher interacting student good nice lecture delivery good good discipline punctuality lecture delivery good work quality lecture interaction goodaccurate supplement material provided recommendation book poorthe change particular teacher month semester subject cause problem perfect really good teaching management much load student working hour term lecture delivery goodin term punctuality also good term intraction teacher donot interact litsn problms mean coprate according everything going well accordance interactionmore enough served good teaching management much load student working hour effective satisfactory term lecture delivery faculty good good accurate good good good depending faculty maintained punctuality good lecture delivery average average good good good good average good quite good depending teacher experience quite good depends upon teacher experience teaching good time enough good teaching delivery good teacher delivery lecture best good qualified teacher lack interaction student fails describe topic average good teaching facility lecture given fruitful teacher punctual interaction good mostly male lecturerspunctuality maintained everyone lecture delivery peak quality thing good thing good activties good activties good good good university serious concept practicals lecture delivery depends teacher knowledge punctuality good good teaching average good average good staff highly punctual interactive encourage student participate class staff faculty member always available interaction punctual delivery lecture improved good delivery good university good term lecture deliveryinteraction punctuality good good good interaction satisfied lecture delivery goodpunctuality always time excellent depends upon teacher good good good good good good good  teacher arent job well manner teacher well experienced interactive helpful punctual teacher teaching well fine excellent faculty good interaction student teacher also good good good good faculty member experienced thats time facing problem subject like csec good good everything good coming lecture dont good grip subjectthey dont behave well student dont even teach concept subject excellent everything good regarding university lecturer dont grip subject teaching normal good good teaching activity university good satisfied good everything good faculty satisfactory good good good good improve subject university good also long teacher college fests related academic curriculum must improved great extent must managed properlythe interaction good lecture delivery need lucidity punctuality notch university good punctualitylecture delivery good term interaction average interaction le come lecture delivery fine cordination lectueres good lecture giving best teach student university good term interaction teacher student fair interact student understands hisher teaching dont make remaining student understand topic university consists whole world itselfit diverse manages conduct event properlyi love part university equal opportunity respect field teacher pretty interactivebut depends student gain much knowledge teacherteachers punctual helpful exam time teaching delivery good better reduce speed lecture delivery understand student better overall rating activity nice teaching interaction student lecture good every time fresh style delivering lecture thanks excellent reduse speed teaching understand student teaching interaction student need improve mean focus dull student intelligents interaction good rest perfect teacher good subjectand punctuality everything would fine le number student btech good faculty quite well need senior lecturer satisfied well good good good university management extordinary faculty good good good lecture excellentbut everyone good learning university booring good good teaching good lecturer showing partiality south people north people excellent teaching good teacher able interact properly able clear concept properly teacher punctual good good much satisfied teaching faculty interms iteractionlecture delivery punctuality showing partiality north indian south indian good interaction satisfying lecture delivery good punctuality excellent staff showing partiality north indian south indian excellent university mode teaching completely different university india lecturer friendly every interact like friend punctual lecture delivery punctuality good interaction student good punctuality lecture good interaction isnt good good enough university good interaction student teacher university deliver lecture effectively good punctuality university good indeed teaching excellentbut lecture delivery markpunctuality good interaction faculty good faculty good also like teaching style interaction student teacher good lecture delivery fine punctuality good  quite good good indeed  teaching good lecturer showing partiality south people north people student boarding school studied year residing hostel living like thatand still punctuality shown teacher studentsand also staff security case student well manured class regular sport dailyparticipation wellquality average term good regarding university activity good given term good regarding university term good regarding university activity teacher experienced also unfair baised infact many teacher experience subject going good'"
      ]
     },
     "execution_count": 31,
     "metadata": {},
     "output_type": "execute_result"
    }
   ],
   "source": [
    "texting=' '.join(dframe['texts'])\n",
    "\n",
    "texting"
   ]
  },
  {
   "cell_type": "code",
   "execution_count": 39,
   "id": "fdfe9df2",
   "metadata": {},
   "outputs": [],
   "source": [
    "from sklearn.decomposition import LatentDirichletAllocation\n",
    "from sklearn.feature_extraction.text import TfidfVectorizer,CountVectorizer"
   ]
  },
  {
   "cell_type": "code",
   "execution_count": 40,
   "id": "437d52c0",
   "metadata": {},
   "outputs": [
    {
     "data": {
      "text/plain": [
       "CountVectorizer()"
      ]
     },
     "execution_count": 40,
     "metadata": {},
     "output_type": "execute_result"
    }
   ],
   "source": [
    "cv=CountVectorizer()\n",
    "cv.fit(dframe['texts'])"
   ]
  },
  {
   "cell_type": "code",
   "execution_count": 41,
   "id": "6d469346",
   "metadata": {},
   "outputs": [],
   "source": [
    "cv_model=cv.transform(dframe['texts'])"
   ]
  },
  {
   "cell_type": "code",
   "execution_count": 43,
   "id": "fcddbf96",
   "metadata": {},
   "outputs": [
    {
     "data": {
      "text/plain": [
       "LatentDirichletAllocation()"
      ]
     },
     "execution_count": 43,
     "metadata": {},
     "output_type": "execute_result"
    }
   ],
   "source": [
    "model=LatentDirichletAllocation(n_components=10)\n",
    "model.fit(cv_model)"
   ]
  },
  {
   "cell_type": "code",
   "execution_count": 49,
   "id": "076c43fe",
   "metadata": {},
   "outputs": [
    {
     "name": "stdout",
     "output_type": "stream",
     "text": [
      "Topic 0:\n",
      "student everything depends excellent fine upon need improve btech teaching\n",
      "\n",
      "Topic 1:\n",
      "interaction fine lecture delivery lack le cordination come lectueres describe\n",
      "\n",
      "Topic 2:\n",
      "student depending teacher good interact teaching university dont understand interaction\n",
      "\n",
      "Topic 3:\n",
      "good average student teacher dont quite well staff class indeed\n",
      "\n",
      "Topic 4:\n",
      "term good lecture university activity delivery regarding punctuality teaching interact\n",
      "\n",
      "Topic 5:\n",
      "delivery lecture good teacher punctual punctuality teaching interaction faculty student\n",
      "\n",
      "Topic 6:\n",
      "good teacher teaching faculty lecture also interaction really student every\n",
      "\n",
      "Topic 7:\n",
      "teaching excellent good lecturer people student satisfied much university management\n",
      "\n",
      "Topic 8:\n",
      "indian faculty showing south partiality north satisfactory like experienced subject\n",
      "\n",
      "Topic 9:\n",
      "good university interaction teacher punctuality lecture perfect well delivery enough\n",
      "\n"
     ]
    },
    {
     "name": "stderr",
     "output_type": "stream",
     "text": [
      "C:\\Users\\HP\\anaconda3\\lib\\site-packages\\sklearn\\utils\\deprecation.py:87: FutureWarning: Function get_feature_names is deprecated; get_feature_names is deprecated in 1.0 and will be removed in 1.2. Please use get_feature_names_out instead.\n",
      "  warnings.warn(msg, category=FutureWarning)\n"
     ]
    }
   ],
   "source": [
    "# print the top 10 words in each topic\n",
    "feature_names = cv.get_feature_names()\n",
    "for topic_idx, topic in enumerate(model.components_):\n",
    "    print(f\"Topic {topic_idx}:\")\n",
    "    print(\" \".join([feature_names[i] for i in topic.argsort()[:-10 -1:-1]]))\n",
    "    print()"
   ]
  },
  {
   "cell_type": "code",
   "execution_count": 54,
   "id": "3aabdefe",
   "metadata": {},
   "outputs": [],
   "source": [
    "from colorama import Fore"
   ]
  },
  {
   "cell_type": "code",
   "execution_count": 55,
   "id": "af5a6b04",
   "metadata": {},
   "outputs": [
    {
     "name": "stdout",
     "output_type": "stream",
     "text": [
      "<colorama.ansi.AnsiFore object at 0x000002813C3002E0> Perplexity: 260.09852735151173\n"
     ]
    }
   ],
   "source": [
    "print(Fore,f\"Perplexity:\", model.perplexity(cv_model))"
   ]
  },
  {
   "cell_type": "code",
   "execution_count": null,
   "id": "8d3e2b0a",
   "metadata": {},
   "outputs": [],
   "source": []
  },
  {
   "cell_type": "code",
   "execution_count": null,
   "id": "947121f9",
   "metadata": {},
   "outputs": [],
   "source": []
  }
 ],
 "metadata": {
  "kernelspec": {
   "display_name": "Python 3 (ipykernel)",
   "language": "python",
   "name": "python3"
  },
  "language_info": {
   "codemirror_mode": {
    "name": "ipython",
    "version": 3
   },
   "file_extension": ".py",
   "mimetype": "text/x-python",
   "name": "python",
   "nbconvert_exporter": "python",
   "pygments_lexer": "ipython3",
   "version": "3.9.13"
  }
 },
 "nbformat": 4,
 "nbformat_minor": 5
}
